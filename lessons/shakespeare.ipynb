{
 "cells": [
  {
   "cell_type": "markdown",
   "metadata": {},
   "source": [
    "# Processing Shakespeare\n",
    "\n",
    "Counting all the letters in shakespeare's works!\n",
    "\n",
    "First step is to read each line of the next file into a list of strings."
   ]
  },
  {
   "cell_type": "code",
   "execution_count": 41,
   "metadata": {},
   "outputs": [
    {
     "name": "stdout",
     "output_type": "stream",
     "text": [
      "124202\n"
     ]
    }
   ],
   "source": [
    "from io import TextIOWrapper\n",
    "\n",
    "def read_lines(filename: str) -> list[str]:\n",
    "    \"\"\"Read a text file into a list of strings for each line.\"\"\"\n",
    "    lines: list[str] = []\n",
    "    file_handle: TextIOWrapper = open(filename, \"r\")\n",
    "    for line in file_handle:\n",
    "        line = line.strip()\n",
    "        line = line.lower()\n",
    "        lines.append(line)\n",
    "    return lines\n",
    "\n",
    "shakespeares_lines: list[str] = read_lines(\"./shakespeare.txt\")\n",
    "print(len(shakespeares_lines))"
   ]
  },
  {
   "cell_type": "code",
   "execution_count": 42,
   "metadata": {},
   "outputs": [
    {
     "name": "stdout",
     "output_type": "stream",
     "text": [
      "['1609', '', 'the sonnets', '', 'by william shakespeare']\n"
     ]
    }
   ],
   "source": [
    "# Example of \"Slice Notation\"\n",
    "\n",
    "print(shakespeares_lines[0:5])"
   ]
  },
  {
   "cell_type": "markdown",
   "metadata": {},
   "source": [
    "The next step of our analysis is to counbt all of letters in Shakespeare's complete body of work."
   ]
  },
  {
   "cell_type": "code",
   "execution_count": 43,
   "metadata": {},
   "outputs": [
    {
     "name": "stdout",
     "output_type": "stream",
     "text": [
      "{'t': 328992, 'h': 236587, 'e': 446156, 's': 248522, 'o': 313895, 'n': 242752, 'b': 61788, 'y': 94173, 'w': 89288, 'i': 253332, 'l': 169660, 'a': 288597, 'm': 111221, 'k': 35364, 'p': 58251, 'r': 237252, 'f': 80336, 'c': 87840, 'u': 128697, 'd': 149128, 'g': 68054, 'v': 37497, 'z': 1626, 'x': 5218, 'q': 3577, 'j': 4752}\n"
     ]
    }
   ],
   "source": [
    "# Write a function named `tally`:\n",
    "# Given a reference to a dictionary, and a key:\n",
    "# Increase the value stored at the key by 1 if key exists\n",
    "# Otherwise set key's initial value to zero\n",
    "# Function that returns None\n",
    "\n",
    "def tally(counts: dict[str, int], key: str) -> None:\n",
    "    \"\"\"Mutate counts by incrementing value stored at key by 1.\"\"\"\n",
    "    if key in counts:\n",
    "        counts[key] += 1\n",
    "    else:\n",
    "        counts[key] = 1\n",
    "\n",
    "\n",
    "def count_letters(lines: list[str]) -> dict[str, int]:\n",
    "    \"\"\"Count the frequency of all letters in a list of strings.\"\"\"\n",
    "    counts: dict[str, int] = {}\n",
    "    # Try looping through each line in `lines`\n",
    "    # Then loop through each char in the line\n",
    "    # Tally that char in the counts dictionary\n",
    "    for line in lines:\n",
    "        for char in line:\n",
    "            if char >= \"a\" and char <= \"z\": # or \"if char.isalpha():\"\n",
    "                tally(counts, char)\n",
    "    return counts\n",
    "\n",
    "shakespreare_counts: dict[str, int] = count_letters(shakespeares_lines)\n",
    "print(shakespreare_counts)"
   ]
  },
  {
   "cell_type": "markdown",
   "metadata": {},
   "source": [
    "Visualize with a bar chart this data about character frequencies."
   ]
  },
  {
   "cell_type": "code",
   "execution_count": 44,
   "metadata": {},
   "outputs": [
    {
     "data": {
      "text/plain": [
       "<BarContainer object of 26 artists>"
      ]
     },
     "execution_count": 44,
     "metadata": {},
     "output_type": "execute_result"
    },
    {
     "data": {
      "image/png": "[encoded data removed]",
      "text/plain": [
       "<Figure size 432x288 with 1 Axes>"
      ]
     },
     "metadata": {
      "needs_background": "light"
     },
     "output_type": "display_data"
    }
   ],
   "source": [
    "from matplotlib import pyplot\n",
    "\n",
    "shakespreare_counts = dict(sorted(shakespreare_counts.items()))\n",
    "\n",
    "pyplot.title(\"Frequencies of Letter in Shakespeare\")\n",
    "pyplot.xlabel(\"Letters\")\n",
    "pyplot.ylabel(\"Counts\")\n",
    "labels: list[str] = list(shakespreare_counts.keys()) # TODO - List of Keys\n",
    "values: list[int] = list(shakespreare_counts.values())\n",
    "pyplot.bar(labels, values)"
   ]
  },
  {
   "cell_type": "code",
   "execution_count": 46,
   "metadata": {},
   "outputs": [
    {
     "data": {
      "text/plain": [
       "{'spring': 110, 'break': 1000000}"
      ]
     },
     "execution_count": 46,
     "metadata": {},
     "output_type": "execute_result"
    }
   ],
   "source": [
    "example_tuples: list[tuple[str, int]] = [\n",
    "    ('spring', 110),\n",
    "    ('break', 1000000)\n",
    "]\n",
    "\n",
    "dict_from_tuples: dict[str, int] = dict(example_tuples)\n",
    "dict_from_tuples"
   ]
  }
 ],
 "metadata": {
  "interpreter": {
   "hash": "aee8b7b246df8f9039afb4144a1f6fd8d2ca17a180786b69acc140d282b71a49"
  },
  "kernelspec": {
   "display_name": "Python 3.10.1 64-bit",
   "language": "python",
   "name": "python3"
  },
  "language_info": {
   "codemirror_mode": {
    "name": "ipython",
    "version": 3
   },
   "file_extension": ".py",
   "mimetype": "text/x-python",
   "name": "python",
   "nbconvert_exporter": "python",
   "pygments_lexer": "ipython3",
   "version": "3.10.1"
  },
  "orig_nbformat": 4
 },
 "nbformat": 4,
 "nbformat_minor": 2
}
